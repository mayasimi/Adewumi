{
  "nbformat": 4,
  "nbformat_minor": 0,
  "metadata": {
    "colab": {
      "provenance": [],
      "authorship_tag": "ABX9TyORaBfvH/Q4DXv8wUtwJHlo",
      "include_colab_link": true
    },
    "kernelspec": {
      "name": "python3",
      "display_name": "Python 3"
    },
    "language_info": {
      "name": "python"
    }
  },
  "cells": [
    {
      "cell_type": "markdown",
      "metadata": {
        "id": "view-in-github",
        "colab_type": "text"
      },
      "source": [
        "<a href=\"https://colab.research.google.com/github/mayasimi/Adewumi/blob/main/pythone_assignment.ipynb\" target=\"_parent\"><img src=\"https://colab.research.google.com/assets/colab-badge.svg\" alt=\"Open In Colab\"/></a>"
      ]
    },
    {
      "cell_type": "code",
      "execution_count": 1,
      "metadata": {
        "colab": {
          "base_uri": "https://localhost:8080/"
        },
        "id": "vGbE-92tynX-",
        "outputId": "bad0fdc4-0866-45b7-efdb-c5d3c082330b"
      },
      "outputs": [
        {
          "output_type": "stream",
          "name": "stdout",
          "text": [
            "Requirement already satisfied: psutil in /usr/local/lib/python3.11/dist-packages (5.9.5)\n",
            "Requirement already satisfied: requests in /usr/local/lib/python3.11/dist-packages (2.32.3)\n",
            "Requirement already satisfied: charset-normalizer<4,>=2 in /usr/local/lib/python3.11/dist-packages (from requests) (3.4.1)\n",
            "Requirement already satisfied: idna<4,>=2.5 in /usr/local/lib/python3.11/dist-packages (from requests) (3.10)\n",
            "Requirement already satisfied: urllib3<3,>=1.21.1 in /usr/local/lib/python3.11/dist-packages (from requests) (2.3.0)\n",
            "Requirement already satisfied: certifi>=2017.4.17 in /usr/local/lib/python3.11/dist-packages (from requests) (2025.1.31)\n"
          ]
        }
      ],
      "source": [
        "!pip install psutil requests\n",
        "\n"
      ]
    },
    {
      "cell_type": "code",
      "source": [
        "import psutil\n",
        "import time\n",
        "\n",
        "def system_monitor():\n",
        "    while True:\n",
        "        cpu_usage = psutil.cpu_percent(interval=1)\n",
        "        memory_usage = psutil.virtual_memory().percent\n",
        "        log_entry = f\"CPU Usage: {cpu_usage}% | Memory Usage: {memory_usage}%\"\n",
        "        print(log_entry)\n",
        "        time.sleep(5)  # Logs every 5 seconds\n",
        "\n",
        "# Run the function\n",
        "system_monitor()\n"
      ],
      "metadata": {
        "colab": {
          "base_uri": "https://localhost:8080/"
        },
        "id": "O1kzvYQFy3n2",
        "outputId": "a8e65813-166a-4935-efaa-264cd9ff9f0a"
      },
      "execution_count": null,
      "outputs": [
        {
          "output_type": "stream",
          "name": "stdout",
          "text": [
            "CPU Usage: 2.5% | Memory Usage: 8.8%\n",
            "CPU Usage: 1.5% | Memory Usage: 9.2%\n",
            "CPU Usage: 2.0% | Memory Usage: 9.2%\n",
            "CPU Usage: 4.5% | Memory Usage: 9.1%\n",
            "CPU Usage: 2.0% | Memory Usage: 9.1%\n",
            "CPU Usage: 2.0% | Memory Usage: 9.1%\n",
            "CPU Usage: 22.1% | Memory Usage: 9.1%\n",
            "CPU Usage: 2.0% | Memory Usage: 9.2%\n",
            "CPU Usage: 44.0% | Memory Usage: 9.0%\n",
            "CPU Usage: 2.0% | Memory Usage: 9.0%\n",
            "CPU Usage: 55.0% | Memory Usage: 9.0%\n",
            "CPU Usage: 2.0% | Memory Usage: 9.0%\n",
            "CPU Usage: 52.3% | Memory Usage: 9.1%\n",
            "CPU Usage: 3.0% | Memory Usage: 9.1%\n",
            "CPU Usage: 28.8% | Memory Usage: 9.0%\n",
            "CPU Usage: 2.0% | Memory Usage: 9.0%\n",
            "CPU Usage: 3.0% | Memory Usage: 9.1%\n",
            "CPU Usage: 3.0% | Memory Usage: 9.1%\n",
            "CPU Usage: 3.5% | Memory Usage: 9.1%\n",
            "CPU Usage: 2.5% | Memory Usage: 9.1%\n",
            "CPU Usage: 2.0% | Memory Usage: 9.0%\n",
            "CPU Usage: 2.5% | Memory Usage: 9.0%\n",
            "CPU Usage: 3.0% | Memory Usage: 9.1%\n",
            "CPU Usage: 2.0% | Memory Usage: 9.1%\n",
            "CPU Usage: 2.5% | Memory Usage: 9.1%\n",
            "CPU Usage: 2.5% | Memory Usage: 9.1%\n",
            "CPU Usage: 2.0% | Memory Usage: 9.1%\n",
            "CPU Usage: 2.0% | Memory Usage: 9.1%\n",
            "CPU Usage: 2.5% | Memory Usage: 9.0%\n",
            "CPU Usage: 2.5% | Memory Usage: 9.0%\n",
            "CPU Usage: 2.5% | Memory Usage: 9.1%\n",
            "CPU Usage: 11.6% | Memory Usage: 9.1%\n",
            "CPU Usage: 2.5% | Memory Usage: 9.1%\n",
            "CPU Usage: 36.7% | Memory Usage: 9.1%\n",
            "CPU Usage: 3.0% | Memory Usage: 9.0%\n",
            "CPU Usage: 55.3% | Memory Usage: 9.0%\n",
            "CPU Usage: 2.5% | Memory Usage: 9.0%\n",
            "CPU Usage: 57.0% | Memory Usage: 9.0%\n",
            "CPU Usage: 2.5% | Memory Usage: 9.0%\n",
            "CPU Usage: 36.2% | Memory Usage: 8.8%\n",
            "CPU Usage: 2.0% | Memory Usage: 8.8%\n",
            "CPU Usage: 9.6% | Memory Usage: 8.8%\n",
            "CPU Usage: 2.0% | Memory Usage: 8.8%\n",
            "CPU Usage: 3.0% | Memory Usage: 9.0%\n",
            "CPU Usage: 2.0% | Memory Usage: 9.0%\n",
            "CPU Usage: 2.5% | Memory Usage: 8.9%\n",
            "CPU Usage: 34.5% | Memory Usage: 8.9%\n",
            "CPU Usage: 2.5% | Memory Usage: 9.2%\n",
            "CPU Usage: 2.0% | Memory Usage: 9.2%\n",
            "CPU Usage: 7.5% | Memory Usage: 9.2%\n",
            "CPU Usage: 22.1% | Memory Usage: 67.0%\n",
            "CPU Usage: 2.5% | Memory Usage: 9.1%\n",
            "CPU Usage: 2.5% | Memory Usage: 9.1%\n",
            "CPU Usage: 10.1% | Memory Usage: 9.0%\n",
            "CPU Usage: 3.0% | Memory Usage: 9.0%\n",
            "CPU Usage: 2.5% | Memory Usage: 8.9%\n",
            "CPU Usage: 2.0% | Memory Usage: 8.9%\n",
            "CPU Usage: 2.5% | Memory Usage: 9.1%\n",
            "CPU Usage: 3.5% | Memory Usage: 9.1%\n",
            "CPU Usage: 3.0% | Memory Usage: 9.1%\n",
            "CPU Usage: 6.0% | Memory Usage: 9.1%\n",
            "CPU Usage: 2.5% | Memory Usage: 9.1%\n",
            "CPU Usage: 28.8% | Memory Usage: 9.2%\n",
            "CPU Usage: 5.0% | Memory Usage: 9.2%\n",
            "CPU Usage: 50.5% | Memory Usage: 9.2%\n",
            "CPU Usage: 2.5% | Memory Usage: 9.2%\n",
            "CPU Usage: 55.6% | Memory Usage: 9.1%\n",
            "CPU Usage: 2.5% | Memory Usage: 9.1%\n",
            "CPU Usage: 51.0% | Memory Usage: 9.1%\n",
            "CPU Usage: 2.0% | Memory Usage: 9.1%\n",
            "CPU Usage: 26.8% | Memory Usage: 9.2%\n",
            "CPU Usage: 5.0% | Memory Usage: 9.0%\n",
            "CPU Usage: 2.0% | Memory Usage: 9.1%\n",
            "CPU Usage: 4.0% | Memory Usage: 9.1%\n",
            "CPU Usage: 1.5% | Memory Usage: 9.0%\n",
            "CPU Usage: 2.5% | Memory Usage: 9.0%\n",
            "CPU Usage: 2.5% | Memory Usage: 9.1%\n",
            "CPU Usage: 2.5% | Memory Usage: 9.1%\n",
            "CPU Usage: 4.0% | Memory Usage: 9.2%\n",
            "CPU Usage: 2.0% | Memory Usage: 9.2%\n",
            "CPU Usage: 2.0% | Memory Usage: 9.1%\n",
            "CPU Usage: 2.5% | Memory Usage: 9.1%\n",
            "CPU Usage: 2.0% | Memory Usage: 8.9%\n",
            "CPU Usage: 6.1% | Memory Usage: 9.0%\n",
            "CPU Usage: 3.0% | Memory Usage: 9.2%\n",
            "CPU Usage: 1.5% | Memory Usage: 9.2%\n",
            "CPU Usage: 2.0% | Memory Usage: 9.3%\n",
            "CPU Usage: 2.0% | Memory Usage: 9.0%\n",
            "CPU Usage: 4.5% | Memory Usage: 9.0%\n",
            "CPU Usage: 18.5% | Memory Usage: 9.1%\n",
            "CPU Usage: 2.0% | Memory Usage: 9.1%\n",
            "CPU Usage: 38.4% | Memory Usage: 9.1%\n",
            "CPU Usage: 2.0% | Memory Usage: 9.1%\n",
            "CPU Usage: 56.3% | Memory Usage: 9.2%\n",
            "CPU Usage: 2.5% | Memory Usage: 8.9%\n",
            "CPU Usage: 57.6% | Memory Usage: 9.1%\n",
            "CPU Usage: 2.5% | Memory Usage: 9.1%\n",
            "CPU Usage: 35.7% | Memory Usage: 9.0%\n",
            "CPU Usage: 5.0% | Memory Usage: 9.0%\n",
            "CPU Usage: 10.9% | Memory Usage: 8.9%\n",
            "CPU Usage: 2.0% | Memory Usage: 8.9%\n",
            "CPU Usage: 13.5% | Memory Usage: 9.1%\n",
            "CPU Usage: 2.5% | Memory Usage: 8.9%\n",
            "CPU Usage: 4.0% | Memory Usage: 8.9%\n",
            "CPU Usage: 3.5% | Memory Usage: 8.9%\n",
            "CPU Usage: 3.5% | Memory Usage: 9.0%\n",
            "CPU Usage: 2.0% | Memory Usage: 9.0%\n",
            "CPU Usage: 2.5% | Memory Usage: 9.1%\n",
            "CPU Usage: 4.5% | Memory Usage: 9.1%\n",
            "CPU Usage: 2.5% | Memory Usage: 9.1%\n",
            "CPU Usage: 2.5% | Memory Usage: 9.1%\n",
            "CPU Usage: 2.5% | Memory Usage: 9.1%\n",
            "CPU Usage: 3.0% | Memory Usage: 9.1%\n",
            "CPU Usage: 4.0% | Memory Usage: 9.1%\n",
            "CPU Usage: 3.0% | Memory Usage: 9.1%\n",
            "CPU Usage: 3.5% | Memory Usage: 9.0%\n",
            "CPU Usage: 2.5% | Memory Usage: 9.0%\n",
            "CPU Usage: 1.5% | Memory Usage: 9.1%\n",
            "CPU Usage: 16.2% | Memory Usage: 9.1%\n",
            "CPU Usage: 2.0% | Memory Usage: 9.1%\n",
            "CPU Usage: 38.2% | Memory Usage: 9.2%\n",
            "CPU Usage: 2.5% | Memory Usage: 9.2%\n",
            "CPU Usage: 55.8% | Memory Usage: 9.1%\n",
            "CPU Usage: 2.5% | Memory Usage: 9.0%\n",
            "CPU Usage: 57.8% | Memory Usage: 9.0%\n",
            "CPU Usage: 2.0% | Memory Usage: 9.0%\n",
            "CPU Usage: 36.0% | Memory Usage: 9.0%\n",
            "CPU Usage: 2.0% | Memory Usage: 9.0%\n",
            "CPU Usage: 10.6% | Memory Usage: 9.1%\n",
            "CPU Usage: 2.5% | Memory Usage: 9.1%\n",
            "CPU Usage: 2.0% | Memory Usage: 9.1%\n",
            "CPU Usage: 2.0% | Memory Usage: 9.1%\n",
            "CPU Usage: 3.5% | Memory Usage: 9.1%\n",
            "CPU Usage: 3.0% | Memory Usage: 9.1%\n"
          ]
        }
      ]
    },
    {
      "cell_type": "code",
      "source": [
        "import requests\n",
        "\n",
        "API_KEY = \"0f3bee9b9a65c8a7ced6a27ea208a973\"\n",
        "BASE_URL = \"http://api.openweathermap.org/data/2.5/weather\"\n",
        "\n",
        "def get_weather(city):\n",
        "    params = {\n",
        "        \"q\": city,\n",
        "        \"appid\": API_KEY,\n",
        "        \"units\": \"metric\"\n",
        "    }\n",
        "    response = requests.get(BASE_URL, params=params)\n",
        "    data = response.json()\n",
        "\n",
        "    if response.status_code == 200:\n",
        "        temperature = data[\"main\"][\"temp\"]\n",
        "        condition = data[\"weather\"][0][\"description\"]\n",
        "        humidity = data[\"main\"][\"humidity\"]\n",
        "        print(f\"Weather in {city}:\\nTemperature: {temperature}°C\\nCondition: {condition.capitalize()}\\nHumidity: {humidity}%\\n\")\n",
        "    else:\n",
        "        print(f\"Error: {data['message']}\")\n",
        "\n",
        "# Get user input in Colab\n",
        "city_name = input(\"Enter a city name: \")\n",
        "get_weather(city_name)\n"
      ],
      "metadata": {
        "id": "zIXOcIIcy-vo"
      },
      "execution_count": null,
      "outputs": []
    },
    {
      "cell_type": "code",
      "source": [
        "log_data = \"\"\"\n",
        "INFO: Application started\n",
        "WARNING: Low memory detected\n",
        "ERROR: Unable to connect to database\n",
        "INFO: User logged in\n",
        "ERROR: Failed to load configuration\n",
        "ERROR: Service timeout occurred\n",
        "\"\"\"\n",
        "\n",
        "def count_errors(log_content):\n",
        "    error_count = log_content.count(\"ERROR\")\n",
        "    print(f\"Found {error_count} occurrences of 'ERROR' in logs.\")\n",
        "\n",
        "count_errors(log_data)\n"
      ],
      "metadata": {
        "id": "nEaq4GWA0hD7"
      },
      "execution_count": null,
      "outputs": []
    },
    {
      "cell_type": "code",
      "source": [
        "def count_errors_from_file(filename):\n",
        "    with open(filename, \"r\") as file:\n",
        "        logs = file.readlines()\n",
        "    error_count = sum(1 for line in logs if \"ERROR\" in line)\n",
        "    print(f\"Found {error_count} occurrences of 'ERROR' in logs.\")\n",
        "\n",
        "count_errors_from_file(\"/content/sample.log\")  # Change to your file name\n"
      ],
      "metadata": {
        "id": "kc1qZtWw0h4h"
      },
      "execution_count": null,
      "outputs": []
    },
    {
      "cell_type": "code",
      "source": [],
      "metadata": {
        "id": "7-xz52uM0iFV"
      },
      "execution_count": null,
      "outputs": []
    }
  ]
}